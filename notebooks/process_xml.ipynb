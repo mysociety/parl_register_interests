{
 "cells": [
  {
   "cell_type": "code",
   "execution_count": 26,
   "metadata": {},
   "outputs": [],
   "source": [
    "from data_common.notebook import *\n",
    "import xml.etree.ElementTree as ET\n",
    "from typing import Iterable\n",
    "import json"
   ]
  },
  {
   "cell_type": "code",
   "execution_count": 24,
   "metadata": {},
   "outputs": [],
   "source": [
    "xml_source = Path(\"data\", \"raw\", \"regmem2022-05-16.xml\")\n",
    "\n",
    "\n",
    "def get_data_from_xml(xml_path: Path) -> Iterable[dict[str, str]]:\n",
    "    tree = ET.parse(str(xml_source))\n",
    "    root = tree.getroot()\n",
    "    for person in root:\n",
    "        if person.tag != \"regmem\":\n",
    "            continue\n",
    "        publicwhip_id = person.get(\"personid\", \"\")\n",
    "        membername = person.get(\"membername\", \"\")\n",
    "        date = person.get(\"date\")\n",
    "        for category in person:\n",
    "            if category.tag != \"category\":\n",
    "                continue\n",
    "            category_type = category.get(\"type\", \"\")\n",
    "            category_name = category.get(\"name\", \"\")\n",
    "            for record in category:\n",
    "                for item in record:\n",
    "                    yield {\n",
    "                        \"public_whip_id\": publicwhip_id,\n",
    "                        \"member_name\": membername,\n",
    "                        \"registry_date\": date,\n",
    "                        \"category_type\": category_type,\n",
    "                        \"category_name\": category_name,\n",
    "                        \"free_text\": item.text,\n",
    "                    }\n",
    "\n",
    "\n",
    "items = list(get_data_from_xml(xml_source))"
   ]
  },
  {
   "cell_type": "code",
   "execution_count": 29,
   "metadata": {},
   "outputs": [],
   "source": [
    "with open(Path(\"data\", \"interim\", \"regmem.json\"), \"w\") as f:\n",
    "    json.dump(items, f, indent=4)"
   ]
  }
 ],
 "metadata": {
  "interpreter": {
   "hash": "949777d72b0d2535278d3dc13498b2535136f6dfe0678499012e853ee9abcab1"
  },
  "kernelspec": {
   "display_name": "Python 3.10.4 64-bit",
   "language": "python",
   "name": "python3"
  },
  "language_info": {
   "codemirror_mode": {
    "name": "ipython",
    "version": 3
   },
   "file_extension": ".py",
   "mimetype": "text/x-python",
   "name": "python",
   "nbconvert_exporter": "python",
   "pygments_lexer": "ipython3",
   "version": "3.10.4"
  },
  "orig_nbformat": 4
 },
 "nbformat": 4,
 "nbformat_minor": 2
}
