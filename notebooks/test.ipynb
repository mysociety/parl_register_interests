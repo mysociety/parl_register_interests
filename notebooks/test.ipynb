{
 "cells": [
  {
   "cell_type": "code",
   "execution_count": 3,
   "metadata": {},
   "outputs": [
    {
     "ename": "Error",
     "evalue": "Invalid Error: Snappy decompression failure",
     "output_type": "error",
     "traceback": [
      "\u001b[0;31m---------------------------------------------------------------------------\u001b[0m",
      "\u001b[0;31mError\u001b[0m                                     Traceback (most recent call last)",
      "Cell \u001b[0;32mIn[3], line 7\u001b[0m\n\u001b[1;32m      3\u001b[0m url \u001b[39m=\u001b[39m \u001b[39m\"\u001b[39m\u001b[39mhttps://pages.mysociety.org/parl_register_interests/data/latest_register/latest/register_of_interests.parquet\u001b[39m\u001b[39m\"\u001b[39m\n\u001b[1;32m      5\u001b[0m query \u001b[39m=\u001b[39m \u001b[39m\"\u001b[39m\u001b[39mINSTALL \u001b[39m\u001b[39m'\u001b[39m\u001b[39mhttpfs\u001b[39m\u001b[39m'\u001b[39m\u001b[39m; LOAD httpfs; select * from \u001b[39m\u001b[39m'\u001b[39m\u001b[39m{{\u001b[39m\u001b[39m url }}\u001b[39m\u001b[39m'\u001b[39m\u001b[39m\"\u001b[39m\n\u001b[0;32m----> 7\u001b[0m duck_query(query, url\u001b[39m=\u001b[39;49murl)\u001b[39m.\u001b[39;49mdf()\n",
      "File \u001b[0;32m/workspaces/parl_register_interests/src/data_common/src/data_common/db/duck.py:39\u001b[0m, in \u001b[0;36mDuckResponse.df\u001b[0;34m(self)\u001b[0m\n\u001b[1;32m     38\u001b[0m \u001b[39mdef\u001b[39;00m \u001b[39mdf\u001b[39m(\u001b[39mself\u001b[39m) \u001b[39m-\u001b[39m\u001b[39m>\u001b[39m pd\u001b[39m.\u001b[39mDataFrame:\n\u001b[0;32m---> 39\u001b[0m     \u001b[39mreturn\u001b[39;00m \u001b[39mself\u001b[39;49m\u001b[39m.\u001b[39;49mresponse\u001b[39m.\u001b[39;49mdf()\n",
      "\u001b[0;31mError\u001b[0m: Invalid Error: Snappy decompression failure"
     ]
    }
   ],
   "source": [
    "from data_common.db import duck_query\n",
    "\n",
    "url = \"https://pages.mysociety.org/parl_register_interests/data/latest_register/latest/register_of_interests.parquet\"\n",
    "\n",
    "query = \"INSTALL 'httpfs'; LOAD httpfs; select * from '{{ url }}'\"\n",
    "\n",
    "duck_query(query, url=url).df()"
   ]
  },
  {
   "cell_type": "code",
   "execution_count": 5,
   "metadata": {},
   "outputs": [
    {
     "ename": "Error",
     "evalue": "Invalid Error: Snappy decompression failure",
     "output_type": "error",
     "traceback": [
      "\u001b[0;31m---------------------------------------------------------------------------\u001b[0m",
      "\u001b[0;31mError\u001b[0m                                     Traceback (most recent call last)",
      "Cell \u001b[0;32mIn[5], line 7\u001b[0m\n\u001b[1;32m      4\u001b[0m url \u001b[39m=\u001b[39m \u001b[39m\"\u001b[39m\u001b[39mhttps://pages.mysociety.org/parl_register_interests/data/latest_register/latest/register_of_interests.parquet\u001b[39m\u001b[39m\"\u001b[39m\n\u001b[1;32m      5\u001b[0m query \u001b[39m=\u001b[39m \u001b[39m\"\u001b[39m\u001b[39mselect * from \u001b[39m\u001b[39m{{\u001b[39m\u001b[39m url }}\u001b[39m\u001b[39m\"\u001b[39m\n\u001b[0;32m----> 7\u001b[0m duck_query(query, url\u001b[39m=\u001b[39;49mp)\u001b[39m.\u001b[39;49mdf()\n",
      "File \u001b[0;32m/workspaces/parl_register_interests/src/data_common/src/data_common/db/duck.py:39\u001b[0m, in \u001b[0;36mDuckResponse.df\u001b[0;34m(self)\u001b[0m\n\u001b[1;32m     38\u001b[0m \u001b[39mdef\u001b[39;00m \u001b[39mdf\u001b[39m(\u001b[39mself\u001b[39m) \u001b[39m-\u001b[39m\u001b[39m>\u001b[39m pd\u001b[39m.\u001b[39mDataFrame:\n\u001b[0;32m---> 39\u001b[0m     \u001b[39mreturn\u001b[39;00m \u001b[39mself\u001b[39;49m\u001b[39m.\u001b[39;49mresponse\u001b[39m.\u001b[39;49mdf()\n",
      "\u001b[0;31mError\u001b[0m: Invalid Error: Snappy decompression failure"
     ]
    }
   ],
   "source": [
    "from pathlib import Path\n",
    "\n",
    "p = Path(\"..\", \"docs\", \"data\", \"latest_register\", \"latest\", \"register_of_interests.parquet\")\n",
    "url = \"https://pages.mysociety.org/parl_register_interests/data/latest_register/latest/register_of_interests.parquet\"\n",
    "query = \"select * from {{ url }}\"\n",
    "\n",
    "duck_query(query, url=p).df()"
   ]
  }
 ],
 "metadata": {
  "kernelspec": {
   "display_name": "Python 3",
   "language": "python",
   "name": "python3"
  },
  "language_info": {
   "codemirror_mode": {
    "name": "ipython",
    "version": 3
   },
   "file_extension": ".py",
   "mimetype": "text/x-python",
   "name": "python",
   "nbconvert_exporter": "python",
   "pygments_lexer": "ipython3",
   "version": "3.10.9"
  },
  "orig_nbformat": 4,
  "vscode": {
   "interpreter": {
    "hash": "949777d72b0d2535278d3dc13498b2535136f6dfe0678499012e853ee9abcab1"
   }
  }
 },
 "nbformat": 4,
 "nbformat_minor": 2
}
